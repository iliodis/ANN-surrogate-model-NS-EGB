{
 "cells": [
  {
   "cell_type": "markdown",
   "id": "d808104c",
   "metadata": {},
   "source": [
    "# Models usage demonstration"
   ]
  },
  {
   "cell_type": "markdown",
   "id": "556460bc",
   "metadata": {},
   "source": [
    "In this notebook I demonstrate how to load and use the resulting ANN models of the work \"A neural-network-based surrogate model for the properties of neutron stars in 4D Einstein-Gauss-Bonnet gravity\" (https://arxiv.org/abs/2309.03991), conducted during my bachelor thesis at the Department of Physics, Aristotle University of Thessaloniki, Greece, under the supervision of professor Nikolaos Stergioulas. The interested readers are referred to the paper for a more complete understanding of these models' pros and cons, as well as their limitations."
   ]
  },
  {
   "cell_type": "code",
   "execution_count": 1,
   "id": "b0ba9e96",
   "metadata": {},
   "outputs": [],
   "source": [
    "# Import the ann_function.py file\n",
    "import ann_function as ann\n",
    "import numpy as np"
   ]
  },
  {
   "cell_type": "markdown",
   "id": "5ac892c5",
   "metadata": {},
   "source": [
    "There are two types of functions created in this work:\n",
    "- type $f_1(\\rm{EoS}; \\alpha, p_c) \\rightarrow (M,R)$, and\n",
    "- type $f_2(\\rm{EoS}; \\alpha, M) \\rightarrow R$.\n",
    "\n",
    "For each type, there are three different functions, each intended for different usage:\n",
    "- `ann.f1()`,\n",
    "- `ann.f1_fast()`,\n",
    "- `ann.f1_batch()`."
   ]
  },
  {
   "cell_type": "markdown",
   "id": "7cc599d2",
   "metadata": {},
   "source": [
    "## Function f1"
   ]
  },
  {
   "cell_type": "markdown",
   "id": "014a1c41",
   "metadata": {},
   "source": [
    "The equations of state used are listed in https://arxiv.org/abs/2309.03991. The corresponding names needed for arguements of these functions can be found in \"ann_function.py\", listed as:\n",
    "- 'aprldponline_nan.coldrmfcrust',\n",
    "- 'bhblp.cold',\n",
    "- 'dd2all.cold',\n",
    "- 'eosAU.166',\n",
    "- 'eosUU.166',\n",
    "- 'eos_bsk20.166',\n",
    "- 'exLS220_smooth.cold',\n",
    "- 'exLS375_smooth.cold',\n",
    "- 'gs1ga_smooth.cold',\n",
    "- 'gs2ga_smooth.cold',\n",
    "- 'ppapr3.cold400',\n",
    "- 'ppeng.cold400',\n",
    "- 'ppgnh3.cold',\n",
    "- 'pph4.cold',\n",
    "- 'ppmpa1.cold400',\n",
    "- 'ppsly4.cold',\n",
    "- 'ppwff2.cold',\n",
    "- 'sfho.cold',\n",
    "- 'tm1.cold',\n",
    "- 'tma_smooth.cold'."
   ]
  },
  {
   "cell_type": "markdown",
   "id": "cc80495e",
   "metadata": {},
   "source": [
    "### `ann.f1()`"
   ]
  },
  {
   "cell_type": "code",
   "execution_count": 2,
   "id": "6da0801a",
   "metadata": {},
   "outputs": [
    {
     "name": "stdout",
     "output_type": "stream",
     "text": [
      "1.8611193607294314 13.607390860476682\n"
     ]
    }
   ],
   "source": [
    "M, R = ann.f1(eos = \"dd2all.cold\", p_c = 1, a = 10)\n",
    "print(M, R)"
   ]
  },
  {
   "cell_type": "markdown",
   "id": "35e7072d",
   "metadata": {},
   "source": [
    "### `ann.f1_fast()`"
   ]
  },
  {
   "cell_type": "markdown",
   "id": "081a2f6d",
   "metadata": {},
   "source": [
    "The same result can be obtained much faster for one combination of inputs."
   ]
  },
  {
   "cell_type": "code",
   "execution_count": 3,
   "id": "52ca28d0",
   "metadata": {},
   "outputs": [
    {
     "name": "stdout",
     "output_type": "stream",
     "text": [
      "1.8611193516184505 13.607390837928605\n"
     ]
    }
   ],
   "source": [
    "M, R = ann.f1_fast(eos = \"dd2all.cold\", p_c = 1, a = 10)\n",
    "print(M, R)"
   ]
  },
  {
   "cell_type": "markdown",
   "id": "9bfda0eb",
   "metadata": {},
   "source": [
    "### `ann.f1_batch()`"
   ]
  },
  {
   "cell_type": "markdown",
   "id": "8394de8b",
   "metadata": {},
   "source": [
    "If the input data can be vectorized, `f1_batch()` should be used."
   ]
  },
  {
   "cell_type": "code",
   "execution_count": 4,
   "id": "42284f1c",
   "metadata": {},
   "outputs": [
    {
     "name": "stdout",
     "output_type": "stream",
     "text": [
      "The masses (in solar masses):\t [1.86111936 1.03565119 1.11461712 1.07141096 1.38856387 1.62251274]\n",
      "The radii (in km): \t \t [13.60739086 12.90316444 12.95517082 12.93613464 13.59541378 13.0873348 ]\n"
     ]
    }
   ],
   "source": [
    "# Define the input arrays (equal size)\n",
    "p_c = np.array([1, 0.4, 0.45, 0.42, 0.5, 1])\n",
    "a = np.array([10,-0.4, 0, 0, 12, 1])\n",
    "\n",
    "# Predict masses and radii\n",
    "M, R = ann.f1_batch(eos = \"dd2all.cold\", p_c = p_c, a = a)\n",
    "print('The masses (in solar masses):\\t', M)\n",
    "print('The radii (in km): \\t \\t', R)"
   ]
  },
  {
   "cell_type": "markdown",
   "id": "42dc1e19",
   "metadata": {},
   "source": [
    "## Function f2"
   ]
  },
  {
   "cell_type": "markdown",
   "id": "499a2fea",
   "metadata": {},
   "source": [
    "Type $f_2$ works similarly."
   ]
  },
  {
   "cell_type": "markdown",
   "id": "b1ff9d09",
   "metadata": {},
   "source": [
    "### `ann.f2()`"
   ]
  },
  {
   "cell_type": "code",
   "execution_count": 5,
   "id": "6f9f070c",
   "metadata": {
    "scrolled": true
   },
   "outputs": [
    {
     "name": "stdout",
     "output_type": "stream",
     "text": [
      "12.99484419330017\n"
     ]
    }
   ],
   "source": [
    "R = ann.f2(eos = \"aprldponline_nan.coldrmfcrust\", M = 0.414111, a = -0.4)\n",
    "print(R)"
   ]
  },
  {
   "cell_type": "markdown",
   "id": "1b617886",
   "metadata": {},
   "source": [
    "### `ann.f2_fast()`"
   ]
  },
  {
   "cell_type": "code",
   "execution_count": 6,
   "id": "1f4b5d3e",
   "metadata": {},
   "outputs": [
    {
     "name": "stdout",
     "output_type": "stream",
     "text": [
      "12.994844280916315\n"
     ]
    }
   ],
   "source": [
    "R = ann.f2_fast(eos = \"aprldponline_nan.coldrmfcrust\", M = 0.414111, a = -0.4)\n",
    "print(R)"
   ]
  },
  {
   "cell_type": "markdown",
   "id": "53ad1b22",
   "metadata": {},
   "source": [
    "### `ann.f2_batch()`"
   ]
  },
  {
   "cell_type": "code",
   "execution_count": 7,
   "id": "0462c5a5",
   "metadata": {},
   "outputs": [
    {
     "name": "stdout",
     "output_type": "stream",
     "text": [
      "[13.05853128 12.87939387 12.98752251 13.2343244  12.4741678 ]\n"
     ]
    }
   ],
   "source": [
    "# Define the input arrays (equal size)\n",
    "M = np.array([0.4, 0.45, 0.42, 0.5, 1])\n",
    "a = np.array([-0.4, 0, 0, 12, 1])\n",
    "\n",
    "# Predict radii\n",
    "R = ann.f2_batch(eos = \"aprldponline_nan.coldrmfcrust\", M = M, a = a)\n",
    "print(R)"
   ]
  }
 ],
 "metadata": {
  "kernelspec": {
   "display_name": "Python 3 (ipykernel)",
   "language": "python",
   "name": "python3"
  },
  "language_info": {
   "codemirror_mode": {
    "name": "ipython",
    "version": 3
   },
   "file_extension": ".py",
   "mimetype": "text/x-python",
   "name": "python",
   "nbconvert_exporter": "python",
   "pygments_lexer": "ipython3",
   "version": "3.9.6"
  }
 },
 "nbformat": 4,
 "nbformat_minor": 5
}
